{
 "cells": [
  {
   "cell_type": "code",
   "execution_count": 18,
   "id": "198e6e91-c2ef-426d-bfa8-7b435c25da4e",
   "metadata": {},
   "outputs": [],
   "source": [
    "import os\n",
    "import shutil\n",
    "import pyspark\n",
    "import findspark\n",
    "from pyspark.sql import SparkSession"
   ]
  },
  {
   "cell_type": "code",
   "execution_count": 3,
   "id": "14766239-3e3a-4e4c-a896-7298a5080ac2",
   "metadata": {},
   "outputs": [],
   "source": [
    "findspark.init()"
   ]
  },
  {
   "cell_type": "code",
   "execution_count": 4,
   "id": "8db370bb-2f03-4dc1-810d-923550ce758e",
   "metadata": {},
   "outputs": [
    {
     "name": "stdout",
     "output_type": "stream",
     "text": [
      ":: loading settings :: url = jar:file:/Users/nncube1/Library/Python/3.10/lib/python/site-packages/pyspark/jars/ivy-2.5.0.jar!/org/apache/ivy/core/settings/ivysettings.xml\n"
     ]
    },
    {
     "name": "stderr",
     "output_type": "stream",
     "text": [
      "Ivy Default Cache set to: /Users/nncube1/.ivy2/cache\n",
      "The jars for the packages stored in: /Users/nncube1/.ivy2/jars\n",
      "com.crealytics#spark-excel_2.12 added as a dependency\n",
      ":: resolving dependencies :: org.apache.spark#spark-submit-parent-ff69dfea-373f-4ade-9983-995e08d9d0d9;1.0\n",
      "\tconfs: [default]\n",
      "\tfound com.crealytics#spark-excel_2.12;0.13.7 in central\n",
      "\tfound org.apache.poi#poi;4.1.2 in central\n",
      "\tfound commons-codec#commons-codec;1.13 in central\n",
      "\tfound org.apache.commons#commons-collections4;4.4 in central\n",
      "\tfound org.apache.commons#commons-math3;3.6.1 in central\n",
      "\tfound com.zaxxer#SparseBitSet;1.2 in central\n",
      "\tfound org.apache.poi#poi-ooxml;4.1.2 in central\n",
      "\tfound org.apache.poi#poi-ooxml-schemas;4.1.2 in central\n",
      "\tfound org.apache.xmlbeans#xmlbeans;3.1.0 in central\n",
      "\tfound com.github.virtuald#curvesapi;1.06 in central\n",
      "\tfound com.norbitltd#spoiwo_2.12;1.8.0 in central\n",
      "\tfound org.scala-lang.modules#scala-xml_2.12;1.3.0 in central\n",
      "\tfound com.github.pjfanning#excel-streaming-reader;2.3.6 in central\n",
      "\tfound com.github.pjfanning#poi-shared-strings;1.0.4 in central\n",
      "\tfound com.h2database#h2;1.4.200 in central\n",
      "\tfound org.apache.commons#commons-text;1.8 in central\n",
      "\tfound org.apache.commons#commons-lang3;3.9 in central\n",
      "\tfound xml-apis#xml-apis;1.4.01 in central\n",
      "\tfound org.slf4j#slf4j-api;1.7.30 in central\n",
      "\tfound org.apache.commons#commons-compress;1.20 in central\n",
      ":: resolution report :: resolve 1835ms :: artifacts dl 68ms\n",
      "\t:: modules in use:\n",
      "\tcom.crealytics#spark-excel_2.12;0.13.7 from central in [default]\n",
      "\tcom.github.pjfanning#excel-streaming-reader;2.3.6 from central in [default]\n",
      "\tcom.github.pjfanning#poi-shared-strings;1.0.4 from central in [default]\n",
      "\tcom.github.virtuald#curvesapi;1.06 from central in [default]\n",
      "\tcom.h2database#h2;1.4.200 from central in [default]\n",
      "\tcom.norbitltd#spoiwo_2.12;1.8.0 from central in [default]\n",
      "\tcom.zaxxer#SparseBitSet;1.2 from central in [default]\n",
      "\tcommons-codec#commons-codec;1.13 from central in [default]\n",
      "\torg.apache.commons#commons-collections4;4.4 from central in [default]\n",
      "\torg.apache.commons#commons-compress;1.20 from central in [default]\n",
      "\torg.apache.commons#commons-lang3;3.9 from central in [default]\n",
      "\torg.apache.commons#commons-math3;3.6.1 from central in [default]\n",
      "\torg.apache.commons#commons-text;1.8 from central in [default]\n",
      "\torg.apache.poi#poi;4.1.2 from central in [default]\n",
      "\torg.apache.poi#poi-ooxml;4.1.2 from central in [default]\n",
      "\torg.apache.poi#poi-ooxml-schemas;4.1.2 from central in [default]\n",
      "\torg.apache.xmlbeans#xmlbeans;3.1.0 from central in [default]\n",
      "\torg.scala-lang.modules#scala-xml_2.12;1.3.0 from central in [default]\n",
      "\torg.slf4j#slf4j-api;1.7.30 from central in [default]\n",
      "\txml-apis#xml-apis;1.4.01 from central in [default]\n",
      "\t:: evicted modules:\n",
      "\torg.apache.commons#commons-compress;1.19 by [org.apache.commons#commons-compress;1.20] in [default]\n",
      "\t---------------------------------------------------------------------\n",
      "\t|                  |            modules            ||   artifacts   |\n",
      "\t|       conf       | number| search|dwnlded|evicted|| number|dwnlded|\n",
      "\t---------------------------------------------------------------------\n",
      "\t|      default     |   21  |   0   |   0   |   1   ||   20  |   0   |\n",
      "\t---------------------------------------------------------------------\n",
      ":: retrieving :: org.apache.spark#spark-submit-parent-ff69dfea-373f-4ade-9983-995e08d9d0d9\n",
      "\tconfs: [default]\n",
      "\t0 artifacts copied, 20 already retrieved (0kB/40ms)\n",
      "23/10/11 18:51:11 WARN NativeCodeLoader: Unable to load native-hadoop library for your platform... using builtin-java classes where applicable\n",
      "Using Spark's default log4j profile: org/apache/spark/log4j-defaults.properties\n",
      "Setting default log level to \"WARN\".\n",
      "To adjust logging level use sc.setLogLevel(newLevel). For SparkR, use setLogLevel(newLevel).\n",
      "23/10/11 18:51:13 WARN Utils: Service 'SparkUI' could not bind on port 4040. Attempting port 4041.\n"
     ]
    }
   ],
   "source": [
    "spark=SparkSession.builder.appName('AH_ASSESSMENT_INGEST').config(\"spark.jars.packages\",\"com.crealytics:spark-excel_2.12:0.13.7\").getOrCreate()"
   ]
  },
  {
   "cell_type": "code",
   "execution_count": 5,
   "id": "1bd7088a-3dea-4184-9812-1b0daf5316f9",
   "metadata": {},
   "outputs": [
    {
     "data": {
      "text/html": [
       "\n",
       "            <div>\n",
       "                <p><b>SparkSession - in-memory</b></p>\n",
       "                \n",
       "        <div>\n",
       "            <p><b>SparkContext</b></p>\n",
       "\n",
       "            <p><a href=\"http://192.168.1.148:4041\">Spark UI</a></p>\n",
       "\n",
       "            <dl>\n",
       "              <dt>Version</dt>\n",
       "                <dd><code>v3.2.1</code></dd>\n",
       "              <dt>Master</dt>\n",
       "                <dd><code>local[*]</code></dd>\n",
       "              <dt>AppName</dt>\n",
       "                <dd><code>AH_ASSESSMENT_INGEST</code></dd>\n",
       "            </dl>\n",
       "        </div>\n",
       "        \n",
       "            </div>\n",
       "        "
      ],
      "text/plain": [
       "<pyspark.sql.session.SparkSession at 0x110e76b90>"
      ]
     },
     "execution_count": 5,
     "metadata": {},
     "output_type": "execute_result"
    }
   ],
   "source": [
    "spark"
   ]
  },
  {
   "cell_type": "markdown",
   "id": "96e8d079-6944-49bd-b721-673fb1f88de5",
   "metadata": {},
   "source": [
    "## FUNCTION TO READ AND TRANSPORT FILES"
   ]
  },
  {
   "cell_type": "code",
   "execution_count": 27,
   "id": "7a1ccbd2-323d-46f9-b312-0ee28612b746",
   "metadata": {},
   "outputs": [],
   "source": [
    "# def get_files(source_folder):\n",
    "#     source_files = os.listdir(source_folder)\n",
    "    \n",
    "#     # Remove .DS_Store file if present\n",
    "#     if '.DS_Store' in source_files:\n",
    "#         file_path = os.path.join(raw_file_location, '.DS_Store')\n",
    "#         os.remove(file_path)\n",
    "        \n",
    "#     if source_files:\n",
    "#         try:\n",
    "#             file_name = source_files[0]\n",
    "#             source_file_path = os.path.join(source_folder, file_name)\n",
    "            \n",
    "          \n",
    "#             if source_folder=='0.LANDING_LAYER':\n",
    "#                 destination_file_path = os.path.join('1.RAW_DATA_LAYER', file_name)\n",
    "#                 df = spark.read.format(\"com.crealytics.spark.excel\") \\\n",
    "#                 .option(\"header\", \"true\") \\\n",
    "#                 .option(\"inferSchema\", \"True\") \\\n",
    "#                 .option(\"truncate\", \"false\") \\\n",
    "#                 .load(source_file_path)\n",
    "                \n",
    "#                 shutil.move(source_file_path, destination_file_path)\n",
    "#                 logger.info(f\"Successfully read and moved {file_name} from {source_file_path} to {destination_file_path}.\")\n",
    "                \n",
    "#             elif source_folder=='1.RAW_DATA_LAYER':\n",
    "#                 df = spark.read.format(\"com.crealytics.spark.excel\") \\\n",
    "#                 .option(\"header\", \"true\") \\\n",
    "#                 .option(\"inferSchema\", \"True\") \\\n",
    "#                 .option(\"truncate\", \"false\") \\\n",
    "#                 .load(source_file_path)\n",
    "#                 logger.info(f\"Successfully read {file_name} from {source_file_path}.\")\n",
    "#             else:\n",
    "#                 df=spark.read.parquet(source_file_path)\n",
    "#                 logger.info(f\"Successfully read {file_name} from {source_file_path}.\")\n",
    "            \n",
    "#             # Lower case columns just in case\n",
    "#             df = df.toDF(*[column.lower() for column in df.columns])\n",
    "\n",
    "#             return df,file_name\n",
    "#         except Exception as e:\n",
    "#             logger.error(f\"Error: {str(e)}\")\n",
    "#             return None\n",
    "#     else:\n",
    "#         raise FileNotFoundError(f\"Sorry, no files exist in the folder  '{source_folder}' at the moment.\")\n"
   ]
  },
  {
   "cell_type": "code",
   "execution_count": 29,
   "id": "b406ccae-84e3-4324-ad04-78e93dab77bd",
   "metadata": {},
   "outputs": [],
   "source": [
    "def get_files(source_folder):\n",
    "    source_files = os.listdir(source_folder)\n",
    "    \n",
    "    \n",
    "    # Remove .DS_Store file if present\n",
    "    if '.DS_Store' in source_files:\n",
    "        file_path = os.path.join(source_folder, '.DS_Store')\n",
    "        os.remove(file_path)\n",
    "    \n",
    "    if source_files:\n",
    "        try:\n",
    "            file_name = source_files[0]\n",
    "            source_file_path = os.path.join(source_folder, file_name)\n",
    "            destination_file_path=None\n",
    "            \n",
    "            # Determine the file reader based on the source folder\n",
    "            if source_folder == '0.LANDING_LAYER':\n",
    "                destination_file_path = os.path.join('1.RAW_DATA_LAYER', file_name)\n",
    "                file_reader = spark.read.format(\"com.crealytics.spark.excel\")\n",
    "                \n",
    "            elif source_folder == '1.RAW_DATA_LAYER':\n",
    "                file_reader = spark.read.format(\"com.crealytics.spark.excel\")\n",
    "                logger.info(f\"Successfully read {file_name} from {source_file_path}.\")\n",
    "                \n",
    "            else:\n",
    "                file_reader = spark.read.parquet()\n",
    "                logger.info(f\"Successfully read {file_name} from {source_file_path}.\")\n",
    "\n",
    "            \n",
    "            # Read the file \n",
    "            df = file_reader \\\n",
    "            .option(\"header\", \"true\") \\\n",
    "            .option(\"inferSchema\", \"True\") \\\n",
    "            .option(\"truncate\", \"false\") \\\n",
    "            .load(source_file_path)\n",
    "            \n",
    "            if source_folder == '0.LANDING_LAYER':\n",
    "                shutil.move(source_file_path, destination_file_path)\n",
    "                logger.info(f\"Successfully read and moved {file_name} from {source_file_path} to {destination_file_path}.\")\n",
    "            \n",
    "            # Lower case columns just in case\n",
    "            df = df.toDF(*[column.lower() for column in df.columns])\n",
    "            \n",
    "            return df, file_name\n",
    "        except Exception as e:\n",
    "            logger.error(f\"Error: {str(e)}\")\n",
    "            return None\n",
    "    else:\n",
    "        raise FileNotFoundError(f\"Sorry, no files exist in the folder '{source_folder}' at the moment.\")\n"
   ]
  },
  {
   "cell_type": "code",
   "execution_count": null,
   "id": "68b7f001-48e1-4d58-908a-da6a931ff939",
   "metadata": {},
   "outputs": [],
   "source": []
  }
 ],
 "metadata": {
  "kernelspec": {
   "display_name": "Python 3 (ipykernel)",
   "language": "python",
   "name": "python3"
  },
  "language_info": {
   "codemirror_mode": {
    "name": "ipython",
    "version": 3
   },
   "file_extension": ".py",
   "mimetype": "text/x-python",
   "name": "python",
   "nbconvert_exporter": "python",
   "pygments_lexer": "ipython3",
   "version": "3.10.4"
  }
 },
 "nbformat": 4,
 "nbformat_minor": 5
}
